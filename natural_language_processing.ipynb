{
  "nbformat": 4,
  "nbformat_minor": 0,
  "metadata": {
    "colab": {
      "name": "natural_language_processing.ipynb",
      "provenance": [],
      "collapsed_sections": [],
      "toc_visible": true,
      "include_colab_link": true
    },
    "kernelspec": {
      "name": "python3",
      "display_name": "Python 3"
    }
  },
  "cells": [
    {
      "cell_type": "markdown",
      "metadata": {
        "id": "view-in-github",
        "colab_type": "text"
      },
      "source": [
        "<a href=\"https://colab.research.google.com/github/xxcramseyxx/NLP_Rest_Reviews/blob/main/natural_language_processing.ipynb\" target=\"_parent\"><img src=\"https://colab.research.google.com/assets/colab-badge.svg\" alt=\"Open In Colab\"/></a>"
      ]
    },
    {
      "cell_type": "markdown",
      "metadata": {
        "id": "VwK5-9FIB-lu"
      },
      "source": [
        "# Natural Language Processing"
      ]
    },
    {
      "cell_type": "markdown",
      "metadata": {
        "id": "X1kiO9kACE6s"
      },
      "source": [
        "## Importing the libraries"
      ]
    },
    {
      "cell_type": "code",
      "metadata": {
        "id": "7QG7sxmoCIvN"
      },
      "source": [
        "import pandas as pd\n",
        "import numpy as np\n",
        "import matplotlib.pyplot as plt"
      ],
      "execution_count": null,
      "outputs": []
    },
    {
      "cell_type": "markdown",
      "metadata": {
        "id": "wTfaCIzdCLPA"
      },
      "source": [
        "## Importing the dataset"
      ]
    },
    {
      "cell_type": "code",
      "metadata": {
        "id": "UCK6vQ5QCQJe"
      },
      "source": [
        "df = pd.read_csv('/content/Restaurant_Reviews.tsv', delimiter= '\\t', quoting = 3) #\\t makes the tab the seperator quoting=3 ignores quotes"
      ],
      "execution_count": null,
      "outputs": []
    },
    {
      "cell_type": "markdown",
      "metadata": {
        "id": "Qekztq71CixT"
      },
      "source": [
        "## Cleaning the texts"
      ]
    },
    {
      "cell_type": "code",
      "metadata": {
        "id": "8u_yXh9dCmEE",
        "colab": {
          "base_uri": "https://localhost:8080/",
          "height": 51
        },
        "outputId": "9d764af4-fe0c-4edb-d65d-c0551d1aabf9"
      },
      "source": [
        "import re\n",
        "import nltk\n",
        "nltk.download('stopwords')\n",
        "from nltk.corpus import stopwords\n",
        "from nltk.stem.porter import PorterStemmer\n",
        "corpus = []\n",
        "for i in range(0, 1000):\n",
        "  review = re.sub('^a-zA-Z', ' ', df['Review'][i]) #hat means not in this instance\n",
        "  review = review.lower()\n",
        "  review = review.split()\n",
        "  ps = PorterStemmer()\n",
        "  all_stopwords = stopwords.words('english')\n",
        "  all_stopwords.remove('not') \n",
        "  #checks stopwords list returns ones that are not with stemming\n",
        "  review = [ps.stem(word) for word in review if not word in set()]\n",
        "  review = ' '.join(review) #' '. applies a space between words in review\n",
        "  corpus.append(review)"
      ],
      "execution_count": null,
      "outputs": [
        {
          "output_type": "stream",
          "text": [
            "[nltk_data] Downloading package stopwords to /root/nltk_data...\n",
            "[nltk_data]   Package stopwords is already up-to-date!\n"
          ],
          "name": "stdout"
        }
      ]
    },
    {
      "cell_type": "code",
      "metadata": {
        "id": "KpGWdrzGoAsL",
        "colab": {
          "base_uri": "https://localhost:8080/",
          "height": 54
        },
        "outputId": "13858711-f040-4f0f-d23b-87d5d68421a6"
      },
      "source": [
        "print(corpus)"
      ],
      "execution_count": null,
      "outputs": [
        {
          "output_type": "stream",
          "text": [
            "['wow... love thi place.', 'crust is not good.', 'not tasti and the textur wa just nasty.', 'stop by dure the late may bank holiday off rick steve recommend and love it.', 'the select on the menu wa great and so were the prices.', 'now i am get angri and i want my damn pho.', \"honeslti it didn't tast that fresh.)\", 'the potato were like rubber and you could tell they had been made up ahead of time be kept under a warmer.', 'the fri were great too.', 'a great touch.', 'servic wa veri prompt.', 'would not go back.', 'the cashier had no care what so ever on what i had to say it still end up be wayyy overpriced.', 'i tri the cape cod ravoli, chicken, with cranberry...mmmm!', 'i wa disgust becaus i wa pretti sure that wa human hair.', 'i wa shock becaus no sign indic cash only.', 'highli recommended.', 'waitress wa a littl slow in service.', 'thi place is not worth your time, let alon vegas.', 'did not like at all.', 'the burritto blah!', 'the food, amazing.', 'servic is also cute.', 'i could care less... the interior is just beautiful.', 'so they performed.', \"that' right....th red velvet cake.....ohhh thi stuff is so good.\", '- they never brought a salad we ask for.', 'thi hole in the wall ha great mexican street tacos, and friendli staff.', 'took an hour to get our food onli 4 tabl in restaur my food wa luke warm, our sever wa run around like he wa total overwhelmed.', 'the worst wa the salmon sashimi.', 'also there are combo like a burger, fries, and beer for 23 which is a decent deal.', 'thi wa like the final blow!', 'i found thi place by accid and i could not be happier.', 'seem like a good quick place to grab a bite of some familiar pub food, but do yourself a favor and look elsewhere.', 'overall, i like thi place a lot.', 'the onli redeem qualiti of the restaur wa that it wa veri inexpensive.', 'ampl portion and good prices.', 'poor service, the waiter made me feel like i wa stupid everi time he came to the table.', 'my first visit to hiro wa a delight!', 'servic sucks.', 'the shrimp tender and moist.', 'there is not a deal good enough that would drag me into that establish again.', \"hard to judg whether these side were good becaus we were gross out by the melt styrofoam and didn't want to eat it for fear of get sick.\", 'on a posit note, our server wa veri attent and provid great service.', 'frozen puck of disgust, with some of the worst peopl behind the register.', 'the onli thing i did like wa the prime rib and dessert section.', \"it' too bad the food is so damn generic.\", 'the burger is good beef, cook just right.', 'if you want a sandwich just go to ani firehouse!!!!!', 'my side greek salad with the greek dress wa so tasty, and the pita and hummu wa veri refreshing.', 'we order the duck rare and it wa pink and tender on the insid with a nice char on the outside.', 'he came run after us when he realiz my husband had left hi sunglass on the table.', 'their chow mein is so good!', \"they have horribl attitud toward customers, and talk down to each one when custom don't enjoy their food.\", 'the portion wa huge!', 'love it...friendli servers, great food, wonder and imagin menu.', 'the heart attack grill in downtown vega is an absolut flat-lin excus for a restaurant.', 'not much seafood and like 5 string of pasta at the bottom.', 'the salad had just the right amount of sauc to not over power the scallop, which wa perfectli cooked.', 'the rip banana wa not onli ripped, but petrifi and tasteless.', 'at least think to refil my water befor i struggl to wave you over for 10 minutes.', 'thi place receiv star for their appetizers!!!', 'the cocktail are all handmad and delicious.', \"we'd definit go back here again.\", 'we are so glad we found thi place.', 'great food and service, huge portion and they give a militari discount.', 'alway a great time at do gringos!', 'update.....w back for a second time and it wa still just as amaz', 'we got the food and appar they have never heard of salt and the batter on the fish wa chewy.', 'a great way to finish a great.', 'the deal includ 5 tast and 2 drinks, and jeff went abov and beyond what we expected.', '- really, realli good rice, all the time.', 'the servic wa meh.', 'it took over 30 min to get their milkshake, which wa noth more than chocol milk.', \"i guess i should have known that thi place would suck, becaus it is insid of the excalibur, but i didn't use my common sense.\", 'the scallop dish is quit appal for valu as well.', '2 time - veri bad custom servic !', 'the sweet potato fri were veri good and season well.', \"today is the second time i'v been to their lunch buffet and it wa pretti good.\", 'there is so much good food in vega that i feel cheat for wast an eat opportun by go to rice and company.', \"come here is like experienc an underwhelm relationship where both parti can't wait for the other person to ask to break up.\", 'walk in and the place smell like an old greas trap and onli 2 other there eating.', 'the turkey and roast beef were bland.', 'thi place ha it!', 'the pan cake everyon are rave about tast like a sugari disast tailor to the palat of a six year old.', 'i love the pho and the spring roll oh so yummi you have to try.', 'the poor batter to meat ratio made the chicken tender veri unsatisfying.', 'all i have to say is the food wa amazing!!!', 'omelet are to die for!', 'everyth wa fresh and delicious!', 'in summary, thi wa a larg disappoint dine experience.', \"it' like a realli sexi parti in your mouth, where you'r outrag flirt with the hottest person at the party.\", 'never been to hard rock casino before, will never ever step forward in it again!', 'best breakfast buffet!!!', 'say bye bye to your tip lady!', \"we'll never go again.\", 'will be back again!', 'food arriv quickly!', 'it wa not good.', 'on the up side, their cafe serv realli good food.', 'our server wa fantast and when he found out the wife love roast garlic and bone marrow, he ad extra to our meal and anoth marrow to go!', \"the onli good thing wa our waiter, he wa veri help and kept the bloddi mary' coming.\", 'best buffet in town, for the price you cannot beat it.', 'i love their mussel cook in thi wine reduction, the duck wa tender, and their potato dish were delicious.', 'thi is one of the better buffet that i have been to.', 'so we went to tigerlilli and had a fantast afternoon!', 'the food wa delicious, our bartend wa attent and person and we got a great deal!', 'the ambienc is wonder and there is music playing.', 'will go back next trip out.', 'sooooo good!!', \"real sushi lovers, let' be honest - yama is not that good.\", \"at least 40min pass in between us order and the food arriving, and it wasn't that busy.\", 'thi is a realli fantast thai restaur which is definit worth a visit.', 'nice, spici and tender.', 'good prices.', 'check it out.', 'it wa pretti gross!', \"i'v had better atmosphere.\", 'kind of hard to mess up a steak but they did.', 'although i veri much like the look and sound of thi place, the actual experi wa a bit disappointing.', \"i just don't know how thi place manag to serv the blandest food i have ever eaten when they are prepar indian cuisine.\", 'worst servic to boot, but that is the least of their worries.', 'servic wa fine and the waitress wa friendly.', \"the guy all had steaks, and our steak love son who ha had steak at the best and worst place said it wa the best steak he' ever eaten.\", \"we thought you'd have to ventur further away to get good sushi, but thi place realli hit the spot that night.\", 'host staff were, for lack of a better word, bitches!', \"bland... not a like thi place for a number of reason and i don't want to wast time on bad reviewing.. i'll leav it at that...\", 'phenomen food, servic and ambiance.', \"i wouldn't return.\", \"definit worth ventur off the strip for the pork belly, will return next time i'm in vegas.\", 'thi place is way too overpr for mediocr food.', 'penn vodka excellent!', 'they have a good select of food includ a massiv meatloaf sandwich, a crispi chicken wrap, a delish tuna melt and some tasti burgers.', 'the manag is rude.', 'delici nyc bagels, good select of cream cheese, real lox with caper even.', \"great subway, in fact it' so good when you come here everi other subway will not meet your expectations.\", 'i had a serious solid breakfast here.', 'thi is one of the best bar with food in vegas.', 'he wa extrem rude and really, there are so mani other restaur i would love to dine at dure a weekend in vegas.', 'my drink wa never empti and he made some realli great menu suggestions.', \"don't do it!!!!\", \"the waiter wasn't help or friendli and rare check on us.\", 'my husband and i ate lunch here and were veri disappoint with the food and service.', \"and the red curri had so much bamboo shoot and wasn't veri tasti to me.\", 'nice blanket of moz over top but i feel like thi wa done to cover up the subpar food.', 'the bathroom are clean and the place itself is well decorated.', 'the menu is alway changing, food qualiti is go down & servic is extrem slow.', 'the servic wa a littl slow , consid that were serv by 3 peopl server so the food wa come in a slow pace.', 'i give it 2 thumb down', 'we watch our waiter pay a lot more attent to other tabl and ignor us.', 'my fiancé and i came in the middl of the day and we were greet and seat right away.', 'thi is a great restaur at the mandalay bay.', 'we wait for forti five minut in vain.', 'crostini that came with the salad wa stale.', 'some highlight : great qualiti nigiri here!', 'the staff is friendli and the joint is alway clean.', 'thi wa a differ cut than the piec the other day but still wonder and tender s well as well flavored.', \"i order the voodoo pasta and it wa the first time i'd had realli excel pasta sinc go gluten free sever year ago.\", 'thi place is good.', 'unfortunately, we must have hit the bakeri on leftov day becaus everyth we order wa stale.', 'i came back today sinc they reloc and still not impressed.', 'i wa seat immediately.', 'their menu is diverse, and reason priced.', 'avoid at all cost!', 'restaur is alway full but never a wait.', 'delicious!!', 'thi place is hands-down one of the best place to eat in the phoenix metro area.', \"so don't go there if you are look for good food...\", \"i'v never been treat so bad.\", 'bacon is hella salty.', 'we also order the spinach and avocado salad, the ingredi were sad and the dress liter had zero taste.', 'thi realli is how vega fine dine use to be, right down to the menu hand to the ladi that have no price listed.', 'the waitress are veri friendly.', 'lordy, the khao soi is a dish that is not to be miss for curri lovers!', 'everyth on the menu is terrif and we were also thrill that they made amaz accommod for our vegetarian daughter.', \"perhap i caught them on an off night judg by the other reviews, but i'm not inspir to go back.\", 'the servic here leav a lot to be desired.', 'the atmospher is modern and hip, while maintain a touch of coziness.', 'not a weekli haunt, but definit a place to come back to everi onc in a while.', 'we liter sat there for 20 minut with no one ask to take our order.', 'the burger had absolut no flavor - the meat itself wa total bland, the burger wa overcook and there wa no charcoal flavor.', 'i also decid not to send it back becaus our waitress look like she wa on the verg of have a heart attack.', 'i dress up to be treat so rudely!', 'it wa probabl dirt.', 'love thi place, hit the spot when i want someth healthi but not lack in quantiti or flavor.', 'i order the lemon raspberri ice cocktail which wa also incredible.', 'the food sucked, which we expect but it suck more than we could have imagined.', 'interest decor.', 'what i realli like there is the crepe station.', 'also were serv hot bread and butter, and home made potato chip with bacon bit on top....veri origin and veri good.', 'you can watch them prepar the delici food!)', 'both of the egg roll were fantastic.', 'when my order arrived, one of the gyro wa missing.', 'i had a salad with the wings, and some ice cream for dessert and left feel quit satisfied.', \"i'm not realli sure how joey' wa vote best hot dog in the valley by reader of phoenix magazine.\", 'the best place to go for a tasti bowl of pho!', 'the live music on friday total blows.', \"i'v never been more insult or felt disrespected.\", 'veri friendli staff.', 'it is worth the drive.', 'i had heard good thing about thi place, but it exceed everi hope i could have dream of.', 'food wa great and so wa the serivce!', \"the warm beer didn't help.\", 'great brunch spot.', 'servic is friendli and inviting.', 'veri good lunch spot.', \"i'v live here sinc 1979 and thi wa the first (and last) time i'v step foot into thi place.\", 'the worst experi ever.', 'must have been an off night at thi place.', 'the side are delish - mix mushrooms, yukon gold puree, white corn - beateous.', 'if that bug never show up i would have given a 4 for sure, but on the other side of the wall where thi bug wa climb wa the kitchen.', \"for about 10 minutes, we we'r wait for her salad when we realiz that it wasn't come ani time soon.\", 'my friend love the salmon tartar.', \"won't go back.\", 'extrem tasty!', 'waitress wa good though!', 'soggi and not good.', 'the jamaican mojito are delicious.', 'which are small and not worth the price.', '- the food is rich so order accordingly.', \"the shower area is outsid so you can onli rinse, not take a full shower, unless you don't mind be nude for everyon to see!\", 'the servic wa a bit lacking.', 'lobster bisque, bussel sprouts, risotto, filet all need salt and pepper..and of cours there is none at the tables.', 'hope thi bode for them go out of busi and someon who can cook can come in.', 'it wa either too cold, not enough flavor or just bad.', 'i love the bacon wrap dates.', 'thi is an unbeliev bargain!', 'the folk at otto alway make us feel so welcom and special.', 'as for the \"mains,\" also uninspired.', 'thi is the place where i first had pho and it wa amazing!!', 'thi wonder experi made thi place a must-stop whenev we are in town again.', \"if the food isn't bad enough for you, then enjoy deal with the world' worst/annoy drunk people.\", 'veri veri fun chef.', 'order a doubl cheeseburg & got a singl patti that wa fall apart (pictur uploaded) yeah, still sucks.', \"great place to have a coupl drink and watch ani and all sport event as the wall are cover with tv's.\", \"if it were possibl to give them zero stars, they'd have it.\", 'the descript said \"yum yum sauce\" and anoth said \"eel sauce\", yet anoth said \"spici mayo\"...wel none of the roll had sauc on them.', \"i'd say that would be the hardest decision... honestly, all of m' dish tast how they are suppos to tast (amazing).\", 'if she had not roll the eye we may have stayed... not sure if we will go back and tri it again.', 'everyon is veri attentive, provid excel custom service.', \"horribl - don't wast your time and money.\", 'now thi dish wa quit flavourful.', 'by thi time our side of the restaur wa almost empti so there wa no excuse.', \"(it wasn't busi either) also, the build wa freez cold.\", 'like the other review said \"you couldn\\'t pay me to eat at thi place again.\"', '-drink took close to 30 minut to come out at one point.', 'serious flavor delights, folks.', 'much better than the other ayc sushi place i went to in vegas.', 'the light is just dark enough to set the mood.', \"base on the sub-par servic i receiv and no effort to show their gratitud for my busi i won't be go back.\", \"owner' are realli great people.!\", 'there is noth privileg about working/ there.', 'the greek dress wa veri creami and flavorful.', \"overall, i don't think that i would take my parent to thi place again becaus they made most of the similar complaint that i silent felt too.\", 'now the pizza itself wa good the peanut sauc wa veri tasty.', 'we had 7 at our tabl and the servic wa pretti fast.', 'fantast servic here.', \"i as well would'v given godfath zero star if possible.\", 'they know how to make them here.', 'veri tough and veri short on flavor!', 'i hope thi place stick around.', 'i have been in more than a few bar in vegas, and do not ever recal be charg for tap water.', 'the restaur atmospher wa exquisite.', 'good service, veri clean, and inexpensive, to boot!', 'the seafood wa fresh and gener in portion.', \"plus, it' onli 8 bucks.\", 'the servic wa not up to par, either.', 'thu far, have onli visit twice and the food wa absolut delici each time.', 'just as good as when i had it more than a year ago!', 'for a self proclaim coffe cafe, i wa wildli disappointed.', 'the veggitarian platter is out of thi world!', 'you cant go wrong with ani of the food here.', \"you can't beat that.\", 'stop by thi place while in madison for the ironman, veri friendly, kind staff.', 'the chef were friendli and did a good job.', \"i'v had better, not onli from dedic boba tea spots, but even from jenni pho.\", 'i like the patio and the servic wa outstanding.', \"the goat taco didn't skimp on the meat and wow what flavor!\", 'i think not again', 'i had the mac salad and it wa pretti bland so i will not be get that again.', \"i went to bachi burger on a friend' recommend and wa not disappointed.\", 'servic stink here!', 'i wait and waited.', 'thi place is not qualiti sushi, it is not a qualiti restaurant.', 'i would definit recommend the wing as well as the pizza.', 'great pizza and salads!', 'thing that went wrong: - they burn the saganaki.', 'we wait an hour for what wa a breakfast i could have done 100 time better at home.', 'thi place is amazing!', 'i hate to disagre with my fellow yelpers, but my husband and i were so disappoint with thi place.', 'wait 2 hour & never got either of our pizza as mani other around us who came in later did!', \"just don't know whi they were so slow.\", 'the staff is great, the food is delish, and they have an incred beer selection.', \"i live in the neighborhood so i am disappoint i won't be back here, becaus it is a conveni location.\", \"i didn't know pull pork could be soooo delicious.\", 'you get incred fresh fish, prepar with care.', 'befor i go in to whi i gave a 1 star rate pleas know that thi wa my third time eat at bachi burger befor write a review.', 'i love the fact that everyth on their menu is worth it.', 'never again will i be dine at thi place!', 'the food wa excel and servic wa veri good.', 'good beer & drink select and good food selection.', 'pleas stay away from the shrimp stir fri noodles.', 'the potato chip order wa sad... i could probabl count how mani chip were in that box and it wa probabl around 12.', 'food wa realli boring.', 'good service-check!', 'thi greedi corpor will never see anoth dime from me!', 'will never, ever go back.', \"as much as i'd like to go back, i can't get pass the atroci servic and will never return.\", 'in the summer, you can dine in a charm outdoor patio - so veri delightful.', 'i did not expect thi to be so good!', 'fantast food!', 'she order a toast english muffin that came out untoasted.', 'the food wa veri good.', 'never go back.', 'great food for the price, which is veri high qualiti and hous made.', 'the bu boy on the other hand wa so rude.', \"by thi point, my friend and i had basic figur out thi place wa a joke and didn't mind make it publicli and loudli known.\", 'back to good bbq, lighter fare, reason price and tell the public they are back to the old ways.', \"and consid the two of us left there veri full and happi for about $20, you just can't go wrong.\", 'all the bread is made in-house!', 'the onli downsid is the service.', \"also, the fri are without a doubt the worst fri i'v ever had.\", 'servic wa except and food wa a good as all the reviews.', 'a coupl of month later, i return and had an amaz meal.', 'favorit place in town for shawarrrrrrma!!!!!!', 'the black eye pea and sweet potatoes... unreal!', \"you won't be disappointed.\", 'they could serv it with just the vinaigrett and it may make for a better overal dish, but it wa still veri good.', \"i go to far too mani place and i'v never seen ani restaur that serv a 1 egg breakfast, especi for $4.00.\", 'when my mom and i got home she immedi got sick and she onli had a few bite of salad.', \"the server are not pleasant to deal with and they don't alway honor pizza hut coupons.\", 'both of them were truli unbeliev good, and i am so glad we went back.', 'we had fantast service, and were pleas by the atmosphere.', 'everyth wa gross.', 'i love thi place.', 'great servic and food.', 'first - the bathroom at thi locat were dirty- seat cover were not replenish & just plain yucky!!!', 'the burger... i got the \"gold standard\" a $17 burger and wa kind of disappointed.', 'omg, the food wa delicioso!', 'there is noth authent about thi place.', 'the spaghetti is noth special whatsoever.', 'of all the dishes, the salmon wa the best, but all were great.', 'the veget are so fresh and the sauc feel like authent thai.', \"it' worth drive up from tucson!\", \"the select wa probabl the worst i'v seen in vegas.....ther wa none.\", 'pretti good beer select too.', 'thi place is like chipotle, but better.', 'classy/warm atmosphere, fun and fresh appetizers, succul steak (basebal steak!!!!!', '5 star for the brick oven bread app!', 'i have eaten here multipl times, and each time the food wa delicious.', 'we sat anoth ten minut and final gave up and left.', 'he wa terrible!', 'everyon is treat equal special.', \"it shouldn't take 30 min for pancak and eggs.\", 'it wa delicious!!!', 'on the good side, the staff wa genuin pleasant and enthusiast - a real treat.', \"sadly, gordon ramsey' steak is a place we shall sharpli avoid dure our next trip to vegas.\", 'as alway the even wa wonder and the food delicious!', \"best fish i'v ever had in my life!\", '(the bathroom is just next door and veri nice.)', 'the buffet is small and all the food they offer wa bland.', 'thi is an outstand littl restaur with some of the best food i have ever tasted.', 'pretti cool i would say.', \"definit a turn off for me & i doubt i'll be back unless someon els is buying.\", 'server did a great job handl our larg rowdi table.', \"i find wast food to be despicable, but thi just wasn't food.\", 'my wife had the lobster bisqu soup which wa lukewarm.', 'would come back again if i had a sushi crave while in vegas.', 'the staff are great, the ambianc is great.', 'he deserv 5 stars.', 'i left with a stomach ach and felt sick the rest of the day.', 'they drop more than the ball.', 'the dine space is tiny, but elegantli decor and comfortable.', \"they will custom your order ani way you'd like, my usual is eggplant with green bean stir fry, love it!\", 'and the bean and rice were mediocr at best.', 'best taco in town by far!!', 'i took back my money and got outta there.', 'in an interest part of town, thi place is amazing.', 'rude & inconsider management.', 'the staff are now not as friendly, the wait time for be serv are horrible, no one even say hi for the first 10 minutes.', \"i won't be back.\", 'they have great dinners.', 'the servic wa outshin & i definit recommend the halibut.', 'the food wa terrible.', 'will never ever go back and have told mani peopl what had happened.', \"i don't recommend unless your car break down in front of it and you are starving.\", \"i will come back here everi time i'm in vegas.\", 'thi place deserv one star and 90% ha to do with the food.', 'thi is a disgrace.', 'def come back to bowl next time', 'if you want healthi authent or ethic food, tri thi place.', 'i will continu to come here on ladi night andddd date night ... highli recommend thi place to anyon who is in the area.', 'i have been here sever time in the past, and the experi ha alway been great.', 'we walk away stuf and happi about our first vega buffet experience.', 'servic wa excel and price are pretti reason consid thi is vega and locat insid the crystal shop mall by aria.', 'to summarize... the food wa incredible, nay, transcendant... but noth bring me joy quit like the memori of the pneumat condiment dispenser.', \"i'm probabl one of the few peopl to ever go to ian and not like it.\", 'kid pizza is alway a hit too with lot of great side dish option for the kiddos!', 'servic is perfect and the famili atmospher is nice to see.', 'cook to perfect and the servic wa impeccable.', 'thi one is simpli a disappointment.', 'overall, i wa veri disappoint with the qualiti of food at bouchon.', \"i don't have to be an account to know i'm get screwed!\", 'great place to eat, remind me of the littl mom and pop shop in the san francisco bay area.', 'today wa my first tast of a buldogi gourmet hot dog and i have to tell you it wa more than i ever thought possible.', 'left veri frustrated.', \"i'll definit be in soon again.\", 'food wa realli good and i got full petti fast.', 'servic wa fantastic.', 'total wast of time.', \"i don't know what kind it is but they have the best ice tea.\", 'come hungry, leav happi and stuffed!', 'for service, i give them no stars.', \"i can assur you that you won't be disappointed.\", 'i can take a littl bad servic but the food sucks.', 'gave up tri to eat ani of the crust (teeth still sore).', 'but now i wa complet gross out.', 'i realli enjoy eat here.', 'first time go but i think i will quickli becom a regular.', 'our server wa veri nice, and even though he look a littl overwhelm with all of our needs, he stay profession and friendli until the end.', 'from what my dinner companion told me...everyth wa veri fresh with nice textur and taste.', 'on the ground, right next to our tabl wa a large, smeared, been-stepped-in-and-tracked-everywher pile of green bird poop.', \"furthermore, you can't even find hour of oper on the website!\", \"we'v tri to like thi place but after 10+ time i think we'r done with them.\", 'what a mistak that was!', 'no complaints!', \"thi is some serious good pizza and i'm an expert/connisseur on the topic.\", 'waiter wa a jerk.', 'strike 2, who want to be rushed.', \"these are the nicest restaur owner i'v ever come across.\", 'i never come again.', 'we love the biscuits!!!', 'servic is quick and friendly.', 'order an appet and took 40 minut and then the pizza anoth 10 minutes.', 'so absolutley fantastic.', 'it wa a huge awkward 1.5lb piec of cow that wa 3/4th gristl and fat.', 'definit will come back here again.', \"i like steiner becaus it' dark and it feel like a bar.\", 'wow veri spici but delicious.', \"if you'r not familiar, check it out.\", \"i'll take my busi dinner dollar elsewhere.\", \"i'd love to go back.\", 'anyway, thi fs restaur ha a wonder breakfast/lunch.', 'noth special.', \"each day of the week they have a differ deal and it' all so delicious!\", 'not to mention the combin of pears, almond and bacon is a big winner!', 'will not be back.', 'sauc wa tasteless.', 'the food is delici and just spici enough, so be sure to ask for spicier if you prefer it that way.', 'my ribey steak wa cook perfectli and had great mesquit flavor.', \"i don't think we'll be go back anytim soon.\", 'food wa so gooodd.', 'i am far from a sushi connoisseur but i can definit tell the differ between good food and bad food and thi wa certainli bad food.', 'i wa so insulted.', 'the last 3 time i had lunch here ha been bad.', 'the chicken wing contain the driest chicken meat i have ever eaten.', 'the food wa veri good and i enjoy everi mouthful, an enjoy relax venu for coupl small famili group etc.', 'nargil - i think you are great.', 'best tater tot in the southwest.', 'we love the place.', 'definit not worth the $3 i paid.', 'the vanilla ice cream wa creami and smooth while the profiterol (choux) pastri wa fresh enough.', 'im in az all the time and now have my new spot.', 'the manag wa the worst.', 'the insid is realli quit nice and veri clean.', 'the food wa outstand and the price were veri reasonable.', \"i don't think i'll be run back to carly' anytim soon for food.\", 'thi is wa due to the fact that it took 20 minut to be acknowledged, then anoth 35 minut to get our food...and they kept forget things.', 'love the margaritas, too!', 'thi wa my first and onli vega buffet and it did not disappoint.', 'veri good, though!', 'the one down note is the ventil could use some upgrading.', 'great pork sandwich.', \"don't wast your time here.\", 'total letdown, i would much rather just go to the camelback flower shop and cartel coffee.', \"third, the chees on my friend' burger wa cold.\", 'we enjoy their pizza and brunch.', 'the steak are all well trim and also perfectli cooked.', 'we had a group of 70+ when we claim we would onli have 40 and they handl us beautifully.', 'i love it!', \"we ask for the bill to leav without eat and they didn't bring that either.\", \"thi place is a jewel in la vegas, and exactli what i'v been hope to find in nearli ten year live here.\", 'seafood wa limit to boil shrimp and crab leg but the crab leg definit did not tast fresh.', 'the select of food wa not the best.', 'delici and i will absolut be back!', \"thi isn't a small famili restaurant, thi is a fine dine establishment.\", 'they had a toro tartar with a cavier that wa extraordinari and i like the thinli slice wagyu with white truffle.', 'i dont think i will be back for a veri long time.', 'it wa attach to a ga station, and that is rare a good sign.', 'how awesom is that.', 'i will be back mani time soon.', 'the menu had so much good stuff on it i could not decide!', 'wors of all, he humili hi worker right in front of me..bunch of horribl name callings.', 'conclusion: veri fill meals.', 'their daili special are alway a hit with my group.', 'and then tragedi struck.', 'the pancak wa also realli good and pretti larg at that.', 'thi wa my first crawfish experience, and it wa delicious!', 'their monster chicken fri steak and egg is my all time favorite.', 'waitress wa sweet and funny.', \"i also had to tast my mom' multi-grain pumpkin pancak with pecan butter and they were amazing, fluffy, and delicious!\", \"i'd rather eat airlin food, seriously.\", 'cant say enough good thing about thi place.', 'the ambianc wa incredible.', 'the waitress and manag are so friendly.', 'i would not recommend thi place.', \"overal i wasn't veri impress with noca.\", 'my gyro wa basic lettuc only.', 'terribl service!', 'thoroughli disappointed!', \"i don't each much pasta, but i love the homemad /hand made pasta and thin pizza here.\", 'give it a try, you will be happi you did.', 'by far the best cheesecurd we have ever had!', 'reason price also!', 'everyth wa perfect the night we were in.', 'the food is veri good for your typic bar food.', 'it wa a drive to get there.', 'at first glanc it is a love bakeri cafe - nice ambiance, clean, friendli staff.', 'anyway, i do not think i will go back there.', \"point your finger at ani item on the menu, order it and you won't be disappointed.\", 'oh thi is such a thing of beauty, thi restaurant.', \"if you haven't gone here go now!\", 'a greasy, unhealthi meal.', 'first time there and might just be the last.', 'those burger were amazing.', 'similarly, the deliveri man did not say a word of apolog when our food wa 45 minut late.', 'and it wa way to expensive.', 'be sure to order dessert, even if you need to pack it to-go - the tiramisu and cannoli are both to die for.', \"thi wa my first time and i can't wait until the next.\", 'the bartend wa also nice.', 'everyth wa good and tasty!', 'thi place is two thumb up....way up.', 'the best place in vega for breakfast (just check out a sat, or sun.', 'if you love authent mexican food and want a whole bunch of interesting, yet delici meat to choos from, you need to tri thi place.', 'terribl management.', 'an excel new restaur by an experienc frenchman.', 'if there were zero star i would give it zero stars.', 'great steak, great sides, great wine, amaz desserts.', 'worst martini ever!', 'the steak and the shrimp are in my opinion the best entre at gc.', 'i had the opportun today to sampl your amaz pizzas!', 'we wait for thirti minut to be seat (although there were 8 vacant tabl and we were the onli folk waiting).', 'the yellowtail carpaccio wa melt in your mouth fresh.', \"i won't tri go back there even if it' empty.\", \"no, i'm go to eat the potato that i found some stranger hair in it.\", 'just spici enough.. perfect actually.', 'last night wa my second time dine here and i wa so happi i decid to go back!', 'not even a \"hello, we will be right with you.\"', 'the dessert were a bit strange.', 'my boyfriend and i came here for the first time on a recent trip to vega and could not have been more pleas with the qualiti of food and service.', 'i realli do recommend thi place, you can go wrong with thi donut place!', 'nice ambiance.', 'i would recommend save room for this!', 'i guess mayb we went on an off night but it wa disgraceful.', 'however, my recent experi at thi particular locat wa not so good.', 'i know thi is not like the other restaur at all, someth is veri off here!', 'avoid thi establishment!', 'i think thi restaur suffer from not tri hard enough.', 'all of the tapa dish were delicious!', 'i *heart* thi place.', 'my salad had a bland vinegrett on the babi green and heart of palm.', 'after two i felt disgusting.', 'a good time!', 'i believ that thi place is a great stop for those with a huge belli and hanker for sushi.', 'gener portion and great taste.', 'i will never go back to thi place and will never ever recommend thi place to anyone!', 'the server went back and forth sever times, not even so much as an \"are you be helped?\"', 'food wa delicious!', 'an hour... seriously?', 'i consid thi theft.', 'eew... thi locat need a complet overhaul.', 'we recent wit her poor qualiti of manag toward other guest as well.', 'wait and wait and waited.', 'he also came back to check on us regularly, excel service.', 'our server wa super nice and check on us mani times.', 'the pizza tast old, super chewi in not a good way.', 'i swung in to give them a tri but wa deepli disappointed.', 'servic wa good and the compani wa better!', 'the staff are also veri friendli and efficient.', \"as for the service: i'm a fan, becaus it' quick and you'r be serv by some nice folks.\", 'boy wa that sucker dry!!.', 'over rated.', 'if you look for authent thai food, go els where.', 'their steak are 100% recommended!', 'after i pull up my car i wait for anoth 15 minut befor be acknowledged.', 'great food and great servic in a clean and friendli setting.', \"all in all, i can assur you i'll be back.\", 'i hate those thing as much as cheap qualiti black olives.', 'my breakfast wa perpar great, with a beauti present of 3 giant slice of toast, lightli dust with powder sugar.', 'the kid play area is nasty!', 'great place fo take out or eat in.', 'the waitress wa friendli and happi to accomod for vegan/veggi options.', 'omg i felt like i had never eaten thai food until thi dish.', 'it wa extrem \"crumby\" and pretti tasteless.', 'it wa a pale color instead of nice and char and ha no flavor.', 'the crouton also tast homemad which is an extra plus.', 'i got home to see the driest damn wing ever!', \"it'll be a regular stop on my trip to phoenix!\", 'i realli enjoy crema café befor they expanded. i even told friend they had the best breakfast.', 'not good for the money.', 'i miss it and wish they had one in philadelphia!', 'we got sit fairli fast, but, end up wait 40 minut just to place our order, anoth 30 minut befor the food arrived.', 'they also have the best chees crisp in town.', 'good value, great food, great service.', \"couldn't ask for a more satisfi meal.\", 'the food is good.', 'it wa awesome.', 'i just want to leave.', 'we made the drive all the way from north scottsdale... and i wa not one bit disappointed!', 'i will not be eat there again.', '!....the owner realli realli need to quit be soooooo cheap let them wrap my freak sandwich in two paper not one!', 'i check out thi place a coupl year ago and wa not impressed.', 'the chicken i got wa definit reheat and wa onli ok, the wedg were cold and soggy.', 'sorry, i will not be get food from here anytim soon :(', 'an absolut must visit!', 'the cow tongu and cheek taco are amazing.', 'my friend did not like hi bloodi mary.', 'despit how hard i rate businesses, it actual rare for me to give a 1 star.', 'they realli want to make your experi a good one.', 'i will not return.', 'i had the chicken pho and it tast veri bland.', 'veri disappointing!!!', 'the grill chicken wa so tender and yellow from the saffron seasoning.', 'a drive thru mean you do not want to wait around for half an hour for your food, but somehow when we end up go here they make us wait and wait.', 'pretti awesom place.', 'ambienc is perfect.', 'best of luck to the rude and non-custom servic focus new management.', 'ani grandmoth can make a roast chicken better than thi one.', 'i ask multipl time for the wine list and after some time of be ignor i went to the hostess and got one myself.', 'the staff is alway super friendli and helpful, which is especi cool when you bring two small boy and a baby!', 'four star for the food & the guy in the blue shirt for hi great vibe & still let us in to eat !', 'the roast beef sandwich tast realli good!', 'same evening, him and i are both drastic sick.', 'high-qual chicken on the chicken caesar salad.', \"order burger rare came in we'll done.\", 'we were promptli greet and seated.', 'tri to go here for lunch and it wa a madhouse.', 'i wa proven dead wrong by thi sushi bar, not onli becaus the qualiti is great, but the servic is fast and the food, impeccable.', 'after wait an hour and be seated, i wa not in the greatest of moods.', 'thi is a good joint.', 'the macaron here are insan good.', \"i'm not eat here!\", 'our waiter wa veri attentive, friendly, and informative.', \"mayb if they weren't cold they would have been somewhat edible.\", 'thi place ha a lot of promis but fail to deliver.', 'veri bad experience!', 'what a mistake.', 'food wa averag at best.', 'great food.', \"we won't be go back anytim soon!\", 'veri veri disappoint order the $35 big bay plater.', 'great place to relax and have an awesom burger and beer.', 'it is perfect for a sit-down famili meal or get togeth with a few friends.', 'not much flavor to them, and veri poorli constructed.', 'the patio seat wa veri comfortable.', 'the fri rice wa dri as well.', 'hand down my favorit italian restaurant!', 'that just scream \"legit\" in my book...somethat\\' also pretti rare here in vegas.', 'it wa just not a fun experience.', 'the atmospher wa great with a love duo of violinist play song we requested.', \"i person love the hummus, pita, baklava, falafel and baba ganoush (it' amaz what they do with eggplant!).\", 'veri convenient, sinc we were stay at the mgm!', 'the owner are super friendli and the staff is courteous.', 'both great!', 'eclect selection.', 'the sweet potato tot were good but the onion ring were perfect or as close as i have had.', 'the staff wa veri attentive.', 'and the chef wa gener with hi time (even came around twice so we can take pictur with him).', 'the owner use to work at nobu, so thi place is realli similar for half the price.', 'googl mediocr and i imagin smashburg will pop up.', 'dont go here.', \"i promis they won't disappoint.\", 'as a sushi lover avoid thi place by all means.', 'what a great doubl cheeseburger!', 'awesom servic and food.', 'a fantast neighborhood gem !!!', \"i can't wait to go back.\", \"the plantain were the worst i'v ever tasted.\", \"it' a great place and i highli recommend it.\", 'servic wa slow and not attentive.', \"i gave it 5 star then, and i'm give it 5 star now.\", 'your staff spend more time talk to themselv than me.', 'dessert: panna cotta wa amazing.', 'veri good food, great atmosphere.1', 'damn good steak.', 'total brunch fail.', 'price are veri reasonable, flavor are spot on, the sauc is home made, and the slaw is not drench in mayo.', 'the decor is nice, and the piano music soundtrack is pleasant.', 'the steak wa amazing...rg fillet relleno wa the best seafood plate i have ever had!', 'good food , good servic .', 'it wa absolut amazing.', \"i probabl won't be back, to be honest.\", 'will definit be back!', 'the sergeant pepper beef sandwich with auju sauc is an excel sandwich as well.', \"hawaiian breeze, mango magic, and pineappl delight are the smoothi that i'v tri so far and they'r all good.\", 'went for lunch - servic wa slow.', 'we had so much to say about the place befor we walk in that he expect it to be amazing, but wa quickli disappointed.', 'i wa mortified.', 'needless to say, we will never be back here again.', 'anyways, the food wa definit not fill at all, and for the price you pay you should expect more.', 'the chip that came out were drip with grease, and mostli not edible.', \"i wasn't realli impress with strip steak.\", 'have been go sinc 2007 and everi meal ha been awesome!!', 'our server wa veri nice and attent as were the other serv staff.', 'the cashier wa friendli and even brought the food out to me.', 'i work in the hospit industri in paradis valley and have refrain from recommend cibo ani longer.', 'the atmospher here is fun.', 'would not recommend to others.', 'servic is quick and even \"to go\" order are just like we like it!', \"i mean really, how do you get so famou for your fish and chip when it' so terrible!?!\", 'that said, our mouth and belli were still quit pleased.', 'not my thing.', '2 thumb up!!', \"if you are read thi pleas don't go there.\", 'i love the grill pizza, remind me of legit italian pizza.', 'onli pro : larg seat area/ nice bar area/ great simpl drink menu/ the best brick oven pizza with homemad dough!', 'they have a realli nice atmosphere.', 'tonight i had the elk filet special...and it sucked.', 'after one bite, i wa hooked.', 'we order some old classic and some new dish after go there a few time and were sore disappoint with everything.', 'cute, quaint, simple, honest.', 'the chicken wa delici season and had the perfect fri on the outsid and moist chicken on the inside.', 'the food wa great as always, compliment to the chef.', 'special thank to dylan t. for the recommend on what to order :) all yummi for my tummy.', 'awesom select of beer.', 'great food and awesom service!', \"one nice thing wa that they ad gratuiti on the bill sinc our parti wa larger than 6 or 8, and they didn't expect more tip than that.\", 'a fli wa in my appl juice.. a fly!!!!!!!!', 'the han nan chicken wa also veri tasty.', 'as for the service, i thought it wa good.', 'the food wa bare lukewarm, so it must have been sit wait for the server to bring it out to us.', \"ryan' bar is definit one edinburgh establish i won't be revisiting.\", \"nicest chines restaur i'v been in a while.\", 'overall, i like there food and the service.', 'they also now serv indian naan bread with hummu and some spici pine nut sauc that wa out of thi world.', \"probabl never come back, and wouldn't recommend it.\", \"friend' pasta -- also bad, he bare touch it.\", 'tri them in the airport to experi some tasti food and speedy, friendli service.', 'i love the decor with the chines calligraphi wall paper.', 'never had anyth to complain about here.', 'the restaur is veri clean and ha a famili restaur feel to it.', 'it wa way over fried.', \"i'm not sure how long we stood there but it wa long enough for me to begin to feel awkwardli out of place.\", 'when i open the sandwich, i wa impressed, but not in a good way.', 'will not be back!', 'there wa a warm feel with the servic and i felt like their guest for a special treat.', 'an extens menu provid lot of option for breakfast.', 'i alway order from the vegetarian menu dure dinner, which ha a wide array of option to choos from.', 'i have watch their price inflate, portion get smaller and manag attitud grow rapidly!', 'wonder lil tapa and the ambienc made me feel all warm and fuzzi inside.', 'i got to enjoy the seafood salad, with a fabul vinegrette.', 'the wonton were thin, not thick and chewy, almost melt in your mouth.', \"level 5 spici wa perfect, where spice didn't over-whelm the soup.\", 'we were sat right on time and our server from the get go wa fantastic!', \"main thing i didn't enjoy is that the crowd is of older crowd, around mid 30 and up.\", \"when i'm on thi side of town, thi will definit be a spot i'll hit up again!\", 'i had to wait over 30 minut to get my drink and longer to get 2 arepas.', 'thi is a great place to eat!', 'the jalapeno bacon is soooo good.', 'the servic wa poor and that be nice.', 'food wa good, servic wa good, price were good.', 'the place wa not clean and the food oh so stale!', 'the chicken dish are ok, the beef is like shoe leather.', 'but the servic wa beyond bad.', 'i\\'m so happi to be here!!!\"', 'tast like dirt.', 'one of the few place in phoenix that i would defin go back to again .', 'the block wa amazing.', \"it' close to my house, it' low-key, non-fancy, afford prices, good food.\", '* both the hot & sour & the egg flower soup were absolut 5 stars!', 'my sashimi wa poor qualiti be soggi and tasteless.', 'great time - famili dinner on a sunday night.', 'the food is not tasti at all, not to say it \"real tradit hunan style\".', 'what did bother me, wa the slow service.', 'the flair bartend are absolut amazing!', 'their frozen margarita are way too sugari for my taste.', 'these were so good we order them twice.', 'so in a nutshell: 1) the restaraunt smell like a combin of a dirti fish market and a sewer.', \"my girlfriend' veal wa veri bad.\", 'unfortunately, it wa not good.', 'i had a pretti satifi experience.', 'join the club and get awesom offer via email.', 'perfect for someon (me) who onli like beer ice cold, or in thi case, even colder.', 'bland and flavorless is a good way of describ the bare tepid meat.', \"the chains, which i'm no fan of, beat thi place easily.\", 'the nacho are a must have!', 'we will not be come back.', \"i don't have veri mani word to say about thi place, but it doe everyth pretti well.\", 'the staff is super nice and veri quick even with the crazi crowd of the downtown juries, lawyers, and court staff.', 'great atmosphere, friendli and fast service.', 'when i receiv my pita it wa huge it did have a lot of meat in it so thumb up there.', \"onc your food arriv it' meh.\", \"pay $7.85 for a hot dog and fri that look like it came out of a kid' meal at the wienerschnitzel is not my idea of a good meal.\", 'the classic main lobster roll wa fantastic.', 'my brother in law who work at the mall ate here same day, and guess what he wa sick all night too.', 'so good i am go to have to review thi place twice - onc herea a tribut to the place and onc as a tribut to an event held here last night.', 'the chip and salsa were realli good, the salsa wa veri fresh.', 'thi place is great!!!!!!!!!!!!!!', 'mediocr food.', \"onc you get insid you'll be impress with the place.\", \"i'm super pissd.\", 'and servic wa super friendly.', 'whi are these sad littl veget so overcooked?', 'thi place wa such a nice surprise!', 'they were golden-crispi and delicious.', 'i had high hope for thi place sinc the burger are cook over a charcoal grill, but unfortun the tast fell flat, way flat.', 'i could eat their bruschetta all day it is devine.', 'not a singl employe came out to see if we were ok or even need a water refil onc they final serv us our food.', 'lastly, the mozzarella sticks, they were the best thing we ordered.', 'the first time i ever came here i had an amaz experience, i still tell peopl how awesom the duck was.', 'the server wa veri neglig of our need and made us feel veri unwelcome... i would not suggest thi place!', 'the servic wa terribl though.', 'thi place is overpriced, not consist with their boba, and it realli is overpriced!', 'it wa packed!!', 'i love thi place.', 'i can say that the dessert were yummy.', 'the food wa terrible.', 'the season fruit wa fresh white peach puree.', \"it kept get wors and wors so now i'm offici done.\", 'thi place should honestli be blown up.', 'but i definit would not eat here again.', 'do not wast your money here!', 'i love that they put their food in nice plastic contain as oppos to cram it in littl paper takeout boxes.', 'the crêpe wa delic and thin and moist.', 'aw service.', \"won't ever go here again.\", 'food qualiti ha been horrible.', 'for that price i can think of a few place i would have much rather gone.', 'the servic here is fair at best.', 'i do love sushi, but i found kabuki to be over-priced, over-hip and under-services.', 'do yourself a favor and stay away from thi dish.', 'veri poor service.', 'no one at the tabl thought the food wa abov averag or worth the wait that we had for it.', 'best servic and food ever, maria our server wa so good and friendli she made our day.', 'they were excellent.', 'i paid the bill but did not tip becaus i felt the server did a terribl job.', 'just had lunch here and had a great experience.', 'i have never had such bland food which surpris me consid the articl we read focus so much on their spice and flavor.', 'food is way overpr and portion are fuck small.', \"i recent tri caballero' and i have been back everi week since!\", 'for 40 buck a head, i realli expect better food.', 'the food came out at a good pace.', 'i ate there twice on my last visit, and especi enjoy the salmon salad.', \"i won't be back.\", 'we could not believ how dirti the oyster were!', 'thi place deserv no stars.', 'i would not recommend thi place.', \"in fact i'm go to round up to 4 stars, just becaus she wa so awesome.\", 'to my disbelief, each dish qualifi as the worst version of these food i have ever tasted.', 'bad day or not, i have a veri low toler for rude custom servic people, it is your job to be nice and polite, wash dish otherwise!!', 'the potato were great and so wa the biscuit.', 'i probabl would not go here again.', 'so flavor and ha just the perfect amount of heat.', 'the price is reason and the servic is great.', 'the wife hate her meal (coconut shrimp), and our friend realli did not enjoy their meals, either.', \"my fella got the huevo ranchero and they didn't look too appealing.\", 'went in for happi hour, great list of wines.', 'some may say thi buffet is pricey but i think you get what you pay for and thi place you are get quit a lot!', \"i probabl won't be come back here.\", \"worst food/servic i'v had in a while.\", 'thi place is pretti good, nice littl vibe in the restaurant.', 'talk about great custom servic of cours we will be back.', 'hot dish are not hot, cold dish are close to room temp.i watch staff prepar food with bare hands, no gloves.everyth is deep fri in oil.', 'i love their fri and their beans.', 'alway a pleasur deal with him.', \"they have a plethora of salad and sandwiches, and everyth i'v tri get my seal of approval.\", 'thi place is awesom if you want someth light and healthi dure the summer.', 'for sushi on the strip, thi is the place to go.', 'the servic wa great, even the manag came and help with our table.', 'the feel of the dine room wa more colleg cook cours than high class dine and the servic wa slow at best.', \"i start thi review with two stars, but i'm edit it to give it onli one.\", \"thi is the worst sushi i have ever eat besid costco's.\", 'all in all an excel restaur highlight by great service, a uniqu menu, and a beauti setting.', 'my boyfriend and i sat at the bar and had a complet delight experience.', 'weird vibe from owners.', 'there wa hardli ani meat.', \"i'v had better bagel from the groceri store.\", 'go to place for gyros.', 'i love the owner/chef, hi one authent japanes cool dude!', \"now the burger aren't as good, the pizza which use to be amaz is doughi and flavorless.\", 'i found a six inch long piec of wire in my salsa.', 'the servic wa terrible, food wa mediocre.', 'we defin enjoy ourselves.', 'i order albondiga soup - which wa just warm - and tast like tomato soup with frozen meatballs.', 'on three differ occas i ask for well done or medium well, and all three time i got the bloodiest piec of meat on my plate.', 'i had about two bite and refus to eat anymore.', 'the servic wa extrem slow.', 'after 20 minut wait, i got a table.', 'serious killer hot chai latte.', 'no allergi warn on the menu, and the waitress had absolut no clue as to which meal did or did not contain peanuts.', 'my boyfriend tri the mediterranean chicken salad and fell in love.', 'their rotat beer on tap is also a highlight of thi place.', 'price is a bit of a concern at mellow mushroom.', 'worst thai ever.', 'if you stay in vega you must get breakfast here at least once.', 'i want to first say our server wa great and we had perfect service.', 'the pizza select are good.', 'i had strawberri tea, which wa good.', 'highli unprofession and rude to a loyal patron!', 'overall, a great experience.', 'spend your money elsewhere.', 'their regular toast bread wa equal satisfi with the occasion pat of butter... mmmm...!', 'the buffet at bellagio wa far from what i anticipated.', 'and the drink are weak, people!', '-mi order wa not correct.', 'also, i feel like the chip are bought, not made in house.', 'after the disappoint dinner we went elsewher for dessert.', 'the chip and sal a here is amazing!!!!!!!!!!!!!!!!!!!', \"we won't be returning.\", 'thi is my new fav vega buffet spot.', 'i serious cannot believ that the owner ha so mani unexperienc employe that all are run around like chicken with their head cut off.', 'very, veri sad.', 'i felt insult and disrespected, how could you talk and judg anoth human be like that?', \"how can you call yourself a steakhous if you can't properli cook a steak, i don't understand!\", \"i'm not impress with the concept or the food.\", \"the onli thing i wasn't too crazi about wa their guacamol as i don't like it puréed.\", 'there is realli noth for me at postinos, hope your experi is better', 'i got food poison here at the buffet.', 'they brought a fresh batch of fri and i wa think yay someth warm but no!', 'what should have been a hilarious, yummi christma eve dinner to rememb wa the biggest fail of the entir trip for us.', \"needless to say, i won't be go back anytim soon.\", 'thi place is disgusting!', 'everi time i eat here, i see care teamwork to a profession degree.', 'the ri style calamari wa a joke.', 'however, there wa so much garlic in the fondue, it wa bare edible.', \"i could bare stomach the meal, but didn't complain becaus it wa a busi lunch.\", 'it wa so bad, i had lost the heart to finish it.', 'it also took her forev to bring us the check when we ask for it.', \"we aren't one to make a scene at restaur but i just don't get it...definit lost the love after thi one!\", 'disappoint experience.', \"the food is about on par with denny's, which is to say, not good at all.\", 'if you want to wait for mediocr food and downright terribl service, then thi is the place for you.', 'waaaaaayyyyyyyyyi over rate is all i am saying.', \"we won't be go back.\", \"the place wa fairli clean but the food simpli wasn't worth it.\", 'thi place lack style!!', 'the sangria wa about half of a glass wine full and wa $12, ridiculous.', \"don't bother come here.\", 'the meat wa pretti dry, i had the slice brisket and pull pork.', \"the build itself seem pretti neat, the bathroom is pretti trippy, but i wouldn't eat here again.\", 'it wa equal awful.', 'probabl not in a hurri to go back.', 'veri slow at seat even with reservation.', 'not good by ani stretch of the imagination.', 'the cashew cream sauc wa bland and the veget were undercooked.', 'the chipolt ranch dip saus wa tasteless, seem thin and water down with no heat.', 'it wa a bit too sweet, not realli spici enough, and lack flavor.', 'i wa veri disappointed!!', 'thi place is horribl and way overpriced.', \"mayb it' just their vegetarian fare, but i'v been twice and i thought it wa averag at best.\", \"it wasn't busi at all and now we know why.\", 'the tabl outsid are also dirti a lot of the time and the worker are not alway friendli and help with the menu.', 'the ambianc here did not feel like a buffet setting, but more of a douchey indoor garden for tea and biscuits.', 'con: spotti service.', 'the fri were not hot, and neither wa my burger.', 'but then they came back cold.', 'then our food came out, disappoint ensued.', 'the real disappoint wa our waiter.', 'my husband said she wa veri rude... did not even apolog for the bad food or anything.', 'the onli reason to eat here would be to fill up befor a night of bing drink just to get some carb in your stomach.', 'insults, profound deuchebaggery, and had to go outsid for a smoke break while serv just to solidifi it.', \"if someon order two taco don't' you think it may be part of custom servic to ask if it is combo or ala cart?\", 'she wa quit disappoint although some blame need to be place at her door.', \"after all the rave review i couldn't wait to eat here......what a disappointment!\", 'del taco is pretti nasti and should be avoid if possible.', \"it' not hard to make a decent hamburger.\", \"but i don't like it.\", 'hell no will i go back', \"we'v have gotten a much better servic from the pizza place next door than the servic we receiv from thi restaurant.\", 'i don\\'t know what the big deal is about thi place, but i won\\'t be back \"ya\\'all\".', 'i immedi said i want to talk to the manag but i did not want to talk to the guy who wa do shot of firebal behind the bar.', \"the ambianc isn't much better.\", 'unfortunately, it onli set us up for disapppoint with our entrees.', \"the food wasn't good.\", 'your server suck, wait, correction, our server heimer sucked.', 'what happen next wa pretty....off putting.', \"too bad caus i know it' famili owned, i realli want to like thi place.\", 'overpr for what you are getting.', 'i vomit in the bathroom mid lunch.', 'i kept look at the time and it had soon becom 35 minutes, yet still no food.', 'i have been to veri few place to eat that under no circumst would i ever return to, and thi top the list.', \"we start with the tuna sashimi which wa brownish in color and obvious wasn't fresh.\", 'food wa below average.', 'it sure doe beat the nacho at the movi but i would expect a littl bit more come from a restaurant.', 'all in all, ha long bay wa a bit of a flop.', 'the problem i have is that they charg $11.99 for a sandwich that is no bigger than a subway sub (which offer better and more amount of vegetables).', 'shrimp- when i unwrap it (i live onli 1/2 a mile from brushfire) it wa liter ice cold.', 'it lack flavor, seem undercooked, and dry.', \"it realli is impress that the place hasn't close down.\", 'i would avoid thi place if you are stay in the mirage.', 'the refri bean that came with my meal were dri out and crusti and the food wa bland.', 'spend your money and time some place else.', 'a ladi at the tabl next to us found a live green caterpillar in her salad.', 'the present of the food wa awful.', \"i can't tell you how disappoint i was.\", 'i think food should have flavor and textur and both were lacking.', 'appetit instantli gone.', 'overal i wa not impress and would not go back.', \"the whole experi wa underwhelming, and i think we'll just go to ninja sushi next time.\", \"then, as if i hadn't wast enough of my life there, they pour salt in the wound by draw out the time it took to bring the check.\"]\n"
          ],
          "name": "stdout"
        }
      ]
    },
    {
      "cell_type": "markdown",
      "metadata": {
        "id": "CLqmAkANCp1-"
      },
      "source": [
        "## Creating the Bag of Words model"
      ]
    },
    {
      "cell_type": "code",
      "metadata": {
        "id": "qroF7XcSCvY3"
      },
      "source": [
        "from sklearn.feature_extraction.text import CountVectorizer\n",
        "cv = CountVectorizer(max_features=1500)\n",
        "X = cv.fit_transform(corpus).toarray()\n",
        "y = df.iloc[:, -1].values"
      ],
      "execution_count": null,
      "outputs": []
    },
    {
      "cell_type": "code",
      "metadata": {
        "id": "SRClYIi08RFt",
        "colab": {
          "base_uri": "https://localhost:8080/",
          "height": 34
        },
        "outputId": "c80b0432-ce0a-4a61-d84c-e14de52ee0de"
      },
      "source": [
        "len(X[0])"
      ],
      "execution_count": null,
      "outputs": [
        {
          "output_type": "execute_result",
          "data": {
            "text/plain": [
              "1500"
            ]
          },
          "metadata": {
            "tags": []
          },
          "execution_count": 25
        }
      ]
    },
    {
      "cell_type": "markdown",
      "metadata": {
        "id": "DH_VjgPzC2cd"
      },
      "source": [
        "## Splitting the dataset into the Training set and Test set"
      ]
    },
    {
      "cell_type": "code",
      "metadata": {
        "id": "qQXYM5VzDDDI"
      },
      "source": [
        "from sklearn.model_selection import train_test_split\n",
        "X_train,X_test,y_train,y_test = train_test_split(X, y, test_size=0.2, random_state=0)"
      ],
      "execution_count": null,
      "outputs": []
    },
    {
      "cell_type": "markdown",
      "metadata": {
        "id": "VkIq23vEDIPt"
      },
      "source": [
        "## Training the Naive Bayes model on the Training set"
      ]
    },
    {
      "cell_type": "code",
      "metadata": {
        "id": "DS9oiDXXDRdI",
        "colab": {
          "base_uri": "https://localhost:8080/",
          "height": 34
        },
        "outputId": "fc1c73d8-e1aa-4e64-c009-aee061400282"
      },
      "source": [
        "from sklearn.naive_bayes import GaussianNB\n",
        "classifier = GaussianNB()\n",
        "classifier.fit(X_train, y_train)"
      ],
      "execution_count": null,
      "outputs": [
        {
          "output_type": "execute_result",
          "data": {
            "text/plain": [
              "GaussianNB(priors=None, var_smoothing=1e-09)"
            ]
          },
          "metadata": {
            "tags": []
          },
          "execution_count": 27
        }
      ]
    },
    {
      "cell_type": "markdown",
      "metadata": {
        "id": "1JaRM7zXDWUy"
      },
      "source": [
        "## Predicting the Test set results"
      ]
    },
    {
      "cell_type": "code",
      "metadata": {
        "id": "Iif0CVhFDaMp",
        "colab": {
          "base_uri": "https://localhost:8080/",
          "height": 1000
        },
        "outputId": "084c9f86-f3c2-4e23-a5b5-70a4236bb1ba"
      },
      "source": [
        "y_pred = classifier.predict(X_test)\n",
        "print(np.concatenate((y_pred.reshape(len(y_pred),1), y_test.reshape(len(y_test),1)),1))"
      ],
      "execution_count": null,
      "outputs": [
        {
          "output_type": "stream",
          "text": [
            "[[1 0]\n",
            " [1 0]\n",
            " [1 0]\n",
            " [0 0]\n",
            " [0 0]\n",
            " [1 0]\n",
            " [1 1]\n",
            " [1 0]\n",
            " [1 0]\n",
            " [1 1]\n",
            " [1 1]\n",
            " [1 1]\n",
            " [1 0]\n",
            " [1 1]\n",
            " [1 1]\n",
            " [1 1]\n",
            " [1 0]\n",
            " [1 0]\n",
            " [0 0]\n",
            " [1 1]\n",
            " [0 0]\n",
            " [0 1]\n",
            " [1 1]\n",
            " [1 0]\n",
            " [1 0]\n",
            " [0 1]\n",
            " [1 1]\n",
            " [1 1]\n",
            " [1 1]\n",
            " [0 0]\n",
            " [1 1]\n",
            " [1 1]\n",
            " [1 1]\n",
            " [1 1]\n",
            " [1 1]\n",
            " [0 0]\n",
            " [1 0]\n",
            " [1 0]\n",
            " [1 0]\n",
            " [1 1]\n",
            " [1 1]\n",
            " [1 0]\n",
            " [1 1]\n",
            " [0 0]\n",
            " [0 0]\n",
            " [0 0]\n",
            " [0 0]\n",
            " [0 0]\n",
            " [0 0]\n",
            " [1 0]\n",
            " [1 1]\n",
            " [1 1]\n",
            " [1 1]\n",
            " [1 1]\n",
            " [1 0]\n",
            " [0 0]\n",
            " [1 1]\n",
            " [1 1]\n",
            " [0 0]\n",
            " [1 1]\n",
            " [1 0]\n",
            " [0 0]\n",
            " [1 0]\n",
            " [1 0]\n",
            " [1 1]\n",
            " [0 0]\n",
            " [1 1]\n",
            " [1 1]\n",
            " [1 1]\n",
            " [1 0]\n",
            " [1 1]\n",
            " [1 1]\n",
            " [1 1]\n",
            " [1 1]\n",
            " [0 0]\n",
            " [1 0]\n",
            " [1 1]\n",
            " [0 1]\n",
            " [0 0]\n",
            " [1 1]\n",
            " [0 0]\n",
            " [1 1]\n",
            " [1 1]\n",
            " [1 0]\n",
            " [1 1]\n",
            " [1 1]\n",
            " [1 0]\n",
            " [0 0]\n",
            " [1 1]\n",
            " [1 0]\n",
            " [0 0]\n",
            " [1 1]\n",
            " [0 0]\n",
            " [0 0]\n",
            " [1 0]\n",
            " [1 1]\n",
            " [1 0]\n",
            " [1 1]\n",
            " [1 1]\n",
            " [1 0]\n",
            " [0 1]\n",
            " [1 1]\n",
            " [1 1]\n",
            " [1 0]\n",
            " [0 1]\n",
            " [1 0]\n",
            " [1 1]\n",
            " [1 1]\n",
            " [0 0]\n",
            " [1 1]\n",
            " [0 1]\n",
            " [1 1]\n",
            " [0 0]\n",
            " [1 0]\n",
            " [1 1]\n",
            " [0 0]\n",
            " [1 1]\n",
            " [1 1]\n",
            " [1 1]\n",
            " [1 1]\n",
            " [1 1]\n",
            " [1 0]\n",
            " [1 1]\n",
            " [1 0]\n",
            " [0 0]\n",
            " [0 0]\n",
            " [1 1]\n",
            " [1 0]\n",
            " [0 0]\n",
            " [1 1]\n",
            " [1 0]\n",
            " [1 1]\n",
            " [0 0]\n",
            " [0 0]\n",
            " [1 1]\n",
            " [1 1]\n",
            " [1 1]\n",
            " [1 1]\n",
            " [1 1]\n",
            " [1 0]\n",
            " [0 1]\n",
            " [1 1]\n",
            " [1 1]\n",
            " [0 0]\n",
            " [1 0]\n",
            " [1 0]\n",
            " [1 0]\n",
            " [1 1]\n",
            " [1 1]\n",
            " [1 1]\n",
            " [1 1]\n",
            " [0 1]\n",
            " [1 1]\n",
            " [1 1]\n",
            " [1 0]\n",
            " [0 0]\n",
            " [1 1]\n",
            " [1 1]\n",
            " [1 1]\n",
            " [1 0]\n",
            " [1 0]\n",
            " [0 0]\n",
            " [0 1]\n",
            " [1 1]\n",
            " [0 0]\n",
            " [0 0]\n",
            " [1 0]\n",
            " [0 0]\n",
            " [0 0]\n",
            " [0 1]\n",
            " [0 0]\n",
            " [0 1]\n",
            " [1 1]\n",
            " [0 0]\n",
            " [0 0]\n",
            " [1 1]\n",
            " [0 0]\n",
            " [1 1]\n",
            " [0 0]\n",
            " [0 1]\n",
            " [1 1]\n",
            " [0 0]\n",
            " [0 0]\n",
            " [1 0]\n",
            " [0 0]\n",
            " [1 1]\n",
            " [0 0]\n",
            " [1 1]\n",
            " [0 0]\n",
            " [1 1]\n",
            " [1 1]\n",
            " [0 0]\n",
            " [1 0]\n",
            " [0 0]\n",
            " [1 1]\n",
            " [1 0]\n",
            " [1 1]\n",
            " [1 1]\n",
            " [1 0]\n",
            " [1 1]]\n"
          ],
          "name": "stdout"
        }
      ]
    },
    {
      "cell_type": "markdown",
      "metadata": {
        "id": "xoMltea5Dir1"
      },
      "source": [
        "## Making the Confusion Matrix"
      ]
    },
    {
      "cell_type": "code",
      "metadata": {
        "id": "Xj9IU6MxDnvo",
        "colab": {
          "base_uri": "https://localhost:8080/",
          "height": 68
        },
        "outputId": "81cc787e-4419-4281-c1e8-60be47a5bd99"
      },
      "source": [
        "from sklearn.metrics import confusion_matrix, accuracy_score\n",
        "cm = confusion_matrix(y_test, y_pred)\n",
        "print(cm)\n",
        "accuracy = accuracy_score(y_test,y_pred)\n",
        "print('Accuracy is: {}'.format(accuracy))"
      ],
      "execution_count": null,
      "outputs": [
        {
          "output_type": "stream",
          "text": [
            "[[50 47]\n",
            " [12 91]]\n",
            "Accuracy is: 0.705\n"
          ],
          "name": "stdout"
        }
      ]
    }
  ]
}